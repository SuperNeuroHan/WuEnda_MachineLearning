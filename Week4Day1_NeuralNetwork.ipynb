{
  "nbformat": 4,
  "nbformat_minor": 0,
  "metadata": {
    "colab": {
      "provenance": []
    },
    "kernelspec": {
      "name": "python3",
      "display_name": "Python 3"
    },
    "language_info": {
      "name": "python"
    }
  },
  "cells": [
    {
      "cell_type": "code",
      "execution_count": null,
      "metadata": {
        "id": "iljvjtNvIR5D"
      },
      "outputs": [],
      "source": [
        "import numpy as np\n",
        "import pandas as pd\n",
        "import matplotlib.pyplot as plt\n",
        "from scipy.io import loadmat\n",
        "\n",
        "import tensorflow as tf\n",
        "from tensorflow.keras.layers import Dense, Input\n",
        "from tensorflow.keras import Sequential\n",
        "from tensorflow.keras.losses import MeanSquaredError, BinaryCrossentropy\n",
        "from tensorflow.keras.activations import sigmoid"
      ]
    },
    {
      "cell_type": "code",
      "source": [
        "data_path = '/content/ex3data1.mat'\n",
        "weight_path = '/content/ex3weights.mat'\n",
        "data = loadmat(data_path)\n",
        "weight = loadmat(weight_path)\n",
        "data.keys(), weight.keys()"
      ],
      "metadata": {
        "colab": {
          "base_uri": "https://localhost:8080/"
        },
        "id": "Bh6kl_wnJTdJ",
        "outputId": "dc1d7466-1cf3-4190-cc4f-9aea3a7d72fc"
      },
      "execution_count": null,
      "outputs": [
        {
          "output_type": "execute_result",
          "data": {
            "text/plain": [
              "(dict_keys(['__header__', '__version__', '__globals__', 'X', 'y']),\n",
              " dict_keys(['__header__', '__version__', '__globals__', 'Theta1', 'Theta2']))"
            ]
          },
          "metadata": {},
          "execution_count": 8
        }
      ]
    },
    {
      "cell_type": "code",
      "source": [
        "# 目标：利用前馈神经网络识别手写数字，预先训练好的模型权重在weight中\n",
        "X = data['X']\n",
        "y = data['y']\n",
        "Theta1 = weight['Theta1']\n",
        "Theta2 = weight['Theta2']\n",
        "X.shape, y.shape, Theta1.shape, Theta2.shape"
      ],
      "metadata": {
        "colab": {
          "base_uri": "https://localhost:8080/"
        },
        "id": "vcsvweyALyvQ",
        "outputId": "27feb760-10b5-4fa6-98cd-c0e8fc80d31f"
      },
      "execution_count": null,
      "outputs": [
        {
          "output_type": "execute_result",
          "data": {
            "text/plain": [
              "((5000, 400), (5000, 1), (25, 401), (10, 26))"
            ]
          },
          "metadata": {},
          "execution_count": 10
        }
      ]
    },
    {
      "cell_type": "code",
      "source": [
        "Theta1T = Theta1.transpose()\n",
        "Theta2T = Theta2.transpose()\n",
        "W1 = Theta1T[1:,:]\n",
        "b1 = Theta1T[0,:]\n",
        "W2 = Theta2T[1:,:]\n",
        "b2 = Theta2T[0,:]\n",
        "W1.shape, b1.shape, W2.shape, b2.shape"
      ],
      "metadata": {
        "colab": {
          "base_uri": "https://localhost:8080/"
        },
        "id": "qglwpqAOOxgr",
        "outputId": "519ee5d7-4941-4fc1-aa3d-52f509b9bbf3"
      },
      "execution_count": null,
      "outputs": [
        {
          "output_type": "execute_result",
          "data": {
            "text/plain": [
              "((400, 25), (25,), (25, 10), (10,))"
            ]
          },
          "metadata": {},
          "execution_count": 15
        }
      ]
    },
    {
      "cell_type": "code",
      "source": [
        "# 建立Model\n",
        "model = Sequential(\n",
        "    [\n",
        "        tf.keras.Input (shape = (400,)),\n",
        "        Dense(25, activation = sigmoid,name = 'L1'),\n",
        "        Dense(10, activation = sigmoid,name = 'L2')\n",
        "     ]\n",
        ")\n",
        "model.summary()"
      ],
      "metadata": {
        "colab": {
          "base_uri": "https://localhost:8080/"
        },
        "id": "YiWtwpUaRFFe",
        "outputId": "3e7bf515-e9b5-48ef-9660-73f0bde68bd5"
      },
      "execution_count": null,
      "outputs": [
        {
          "output_type": "stream",
          "name": "stdout",
          "text": [
            "Model: \"sequential_1\"\n",
            "_________________________________________________________________\n",
            " Layer (type)                Output Shape              Param #   \n",
            "=================================================================\n",
            " L1 (Dense)                  (None, 25)                10025     \n",
            "                                                                 \n",
            " L2 (Dense)                  (None, 10)                260       \n",
            "                                                                 \n",
            "=================================================================\n",
            "Total params: 10285 (40.18 KB)\n",
            "Trainable params: 10285 (40.18 KB)\n",
            "Non-trainable params: 0 (0.00 Byte)\n",
            "_________________________________________________________________\n"
          ]
        }
      ]
    },
    {
      "cell_type": "code",
      "source": [
        "#设置model参数\n",
        "model.get_layer('L1').set_weights([W1,b1])\n",
        "model.get_layer('L2').set_weights([W2,b2])"
      ],
      "metadata": {
        "id": "jE8vTNJaSWFe"
      },
      "execution_count": null,
      "outputs": []
    },
    {
      "cell_type": "code",
      "source": [
        "# normalize data\n",
        "norm_l = tf.keras.layers.Normalization(axis=-1)\n",
        "norm_l.adapt(X)\n",
        "X_norm = norm_l(X)"
      ],
      "metadata": {
        "id": "h57Co6fjS70U"
      },
      "execution_count": null,
      "outputs": []
    },
    {
      "cell_type": "code",
      "source": [
        "# 预测图片\n",
        "y_pred = model.predict(X_norm)\n",
        "y_pred.shape\n",
        "y_pred_df = pd.DataFrame(y_pred)\n",
        "y_pred_df.head()"
      ],
      "metadata": {
        "colab": {
          "base_uri": "https://localhost:8080/",
          "height": 224
        },
        "id": "Ysk9U-4pTfON",
        "outputId": "0142b832-71c7-453a-dcfe-7d67ec5839e3"
      },
      "execution_count": null,
      "outputs": [
        {
          "output_type": "stream",
          "name": "stdout",
          "text": [
            "157/157 [==============================] - 1s 6ms/step\n"
          ]
        },
        {
          "output_type": "execute_result",
          "data": {
            "text/plain": [
              "          0         1         2         3         4         5         6  \\\n",
              "0  0.000835  0.000814  0.000804  0.000010  0.034281  0.004400  0.075350   \n",
              "1  0.006616  0.000188  0.000402  0.000084  0.459847  0.001142  0.011746   \n",
              "2  0.001925  0.000814  0.048571  0.000033  0.034910  0.029444  0.002392   \n",
              "3  0.000781  0.001911  0.013101  0.001869  0.002877  0.067493  0.031514   \n",
              "4  0.000156  0.000665  0.006688  0.000410  0.167692  0.000240  0.031743   \n",
              "\n",
              "          7         8         9  \n",
              "0  0.000268  0.026714  0.998951  \n",
              "1  0.000118  0.002320  0.999010  \n",
              "2  0.020903  0.004268  0.990181  \n",
              "3  0.001977  0.000051  0.998925  \n",
              "4  0.000402  0.001039  0.994031  "
            ],
            "text/html": [
              "\n",
              "  <div id=\"df-8a5602cf-4f66-455e-9f73-e3b91fc61ee5\" class=\"colab-df-container\">\n",
              "    <div>\n",
              "<style scoped>\n",
              "    .dataframe tbody tr th:only-of-type {\n",
              "        vertical-align: middle;\n",
              "    }\n",
              "\n",
              "    .dataframe tbody tr th {\n",
              "        vertical-align: top;\n",
              "    }\n",
              "\n",
              "    .dataframe thead th {\n",
              "        text-align: right;\n",
              "    }\n",
              "</style>\n",
              "<table border=\"1\" class=\"dataframe\">\n",
              "  <thead>\n",
              "    <tr style=\"text-align: right;\">\n",
              "      <th></th>\n",
              "      <th>0</th>\n",
              "      <th>1</th>\n",
              "      <th>2</th>\n",
              "      <th>3</th>\n",
              "      <th>4</th>\n",
              "      <th>5</th>\n",
              "      <th>6</th>\n",
              "      <th>7</th>\n",
              "      <th>8</th>\n",
              "      <th>9</th>\n",
              "    </tr>\n",
              "  </thead>\n",
              "  <tbody>\n",
              "    <tr>\n",
              "      <th>0</th>\n",
              "      <td>0.000835</td>\n",
              "      <td>0.000814</td>\n",
              "      <td>0.000804</td>\n",
              "      <td>0.000010</td>\n",
              "      <td>0.034281</td>\n",
              "      <td>0.004400</td>\n",
              "      <td>0.075350</td>\n",
              "      <td>0.000268</td>\n",
              "      <td>0.026714</td>\n",
              "      <td>0.998951</td>\n",
              "    </tr>\n",
              "    <tr>\n",
              "      <th>1</th>\n",
              "      <td>0.006616</td>\n",
              "      <td>0.000188</td>\n",
              "      <td>0.000402</td>\n",
              "      <td>0.000084</td>\n",
              "      <td>0.459847</td>\n",
              "      <td>0.001142</td>\n",
              "      <td>0.011746</td>\n",
              "      <td>0.000118</td>\n",
              "      <td>0.002320</td>\n",
              "      <td>0.999010</td>\n",
              "    </tr>\n",
              "    <tr>\n",
              "      <th>2</th>\n",
              "      <td>0.001925</td>\n",
              "      <td>0.000814</td>\n",
              "      <td>0.048571</td>\n",
              "      <td>0.000033</td>\n",
              "      <td>0.034910</td>\n",
              "      <td>0.029444</td>\n",
              "      <td>0.002392</td>\n",
              "      <td>0.020903</td>\n",
              "      <td>0.004268</td>\n",
              "      <td>0.990181</td>\n",
              "    </tr>\n",
              "    <tr>\n",
              "      <th>3</th>\n",
              "      <td>0.000781</td>\n",
              "      <td>0.001911</td>\n",
              "      <td>0.013101</td>\n",
              "      <td>0.001869</td>\n",
              "      <td>0.002877</td>\n",
              "      <td>0.067493</td>\n",
              "      <td>0.031514</td>\n",
              "      <td>0.001977</td>\n",
              "      <td>0.000051</td>\n",
              "      <td>0.998925</td>\n",
              "    </tr>\n",
              "    <tr>\n",
              "      <th>4</th>\n",
              "      <td>0.000156</td>\n",
              "      <td>0.000665</td>\n",
              "      <td>0.006688</td>\n",
              "      <td>0.000410</td>\n",
              "      <td>0.167692</td>\n",
              "      <td>0.000240</td>\n",
              "      <td>0.031743</td>\n",
              "      <td>0.000402</td>\n",
              "      <td>0.001039</td>\n",
              "      <td>0.994031</td>\n",
              "    </tr>\n",
              "  </tbody>\n",
              "</table>\n",
              "</div>\n",
              "    <div class=\"colab-df-buttons\">\n",
              "\n",
              "  <div class=\"colab-df-container\">\n",
              "    <button class=\"colab-df-convert\" onclick=\"convertToInteractive('df-8a5602cf-4f66-455e-9f73-e3b91fc61ee5')\"\n",
              "            title=\"Convert this dataframe to an interactive table.\"\n",
              "            style=\"display:none;\">\n",
              "\n",
              "  <svg xmlns=\"http://www.w3.org/2000/svg\" height=\"24px\" viewBox=\"0 -960 960 960\">\n",
              "    <path d=\"M120-120v-720h720v720H120Zm60-500h600v-160H180v160Zm220 220h160v-160H400v160Zm0 220h160v-160H400v160ZM180-400h160v-160H180v160Zm440 0h160v-160H620v160ZM180-180h160v-160H180v160Zm440 0h160v-160H620v160Z\"/>\n",
              "  </svg>\n",
              "    </button>\n",
              "\n",
              "  <style>\n",
              "    .colab-df-container {\n",
              "      display:flex;\n",
              "      gap: 12px;\n",
              "    }\n",
              "\n",
              "    .colab-df-convert {\n",
              "      background-color: #E8F0FE;\n",
              "      border: none;\n",
              "      border-radius: 50%;\n",
              "      cursor: pointer;\n",
              "      display: none;\n",
              "      fill: #1967D2;\n",
              "      height: 32px;\n",
              "      padding: 0 0 0 0;\n",
              "      width: 32px;\n",
              "    }\n",
              "\n",
              "    .colab-df-convert:hover {\n",
              "      background-color: #E2EBFA;\n",
              "      box-shadow: 0px 1px 2px rgba(60, 64, 67, 0.3), 0px 1px 3px 1px rgba(60, 64, 67, 0.15);\n",
              "      fill: #174EA6;\n",
              "    }\n",
              "\n",
              "    .colab-df-buttons div {\n",
              "      margin-bottom: 4px;\n",
              "    }\n",
              "\n",
              "    [theme=dark] .colab-df-convert {\n",
              "      background-color: #3B4455;\n",
              "      fill: #D2E3FC;\n",
              "    }\n",
              "\n",
              "    [theme=dark] .colab-df-convert:hover {\n",
              "      background-color: #434B5C;\n",
              "      box-shadow: 0px 1px 3px 1px rgba(0, 0, 0, 0.15);\n",
              "      filter: drop-shadow(0px 1px 2px rgba(0, 0, 0, 0.3));\n",
              "      fill: #FFFFFF;\n",
              "    }\n",
              "  </style>\n",
              "\n",
              "    <script>\n",
              "      const buttonEl =\n",
              "        document.querySelector('#df-8a5602cf-4f66-455e-9f73-e3b91fc61ee5 button.colab-df-convert');\n",
              "      buttonEl.style.display =\n",
              "        google.colab.kernel.accessAllowed ? 'block' : 'none';\n",
              "\n",
              "      async function convertToInteractive(key) {\n",
              "        const element = document.querySelector('#df-8a5602cf-4f66-455e-9f73-e3b91fc61ee5');\n",
              "        const dataTable =\n",
              "          await google.colab.kernel.invokeFunction('convertToInteractive',\n",
              "                                                    [key], {});\n",
              "        if (!dataTable) return;\n",
              "\n",
              "        const docLinkHtml = 'Like what you see? Visit the ' +\n",
              "          '<a target=\"_blank\" href=https://colab.research.google.com/notebooks/data_table.ipynb>data table notebook</a>'\n",
              "          + ' to learn more about interactive tables.';\n",
              "        element.innerHTML = '';\n",
              "        dataTable['output_type'] = 'display_data';\n",
              "        await google.colab.output.renderOutput(dataTable, element);\n",
              "        const docLink = document.createElement('div');\n",
              "        docLink.innerHTML = docLinkHtml;\n",
              "        element.appendChild(docLink);\n",
              "      }\n",
              "    </script>\n",
              "  </div>\n",
              "\n",
              "\n",
              "<div id=\"df-b608cc84-5327-4dc5-a563-d13875f520ca\">\n",
              "  <button class=\"colab-df-quickchart\" onclick=\"quickchart('df-b608cc84-5327-4dc5-a563-d13875f520ca')\"\n",
              "            title=\"Suggest charts\"\n",
              "            style=\"display:none;\">\n",
              "\n",
              "<svg xmlns=\"http://www.w3.org/2000/svg\" height=\"24px\"viewBox=\"0 0 24 24\"\n",
              "     width=\"24px\">\n",
              "    <g>\n",
              "        <path d=\"M19 3H5c-1.1 0-2 .9-2 2v14c0 1.1.9 2 2 2h14c1.1 0 2-.9 2-2V5c0-1.1-.9-2-2-2zM9 17H7v-7h2v7zm4 0h-2V7h2v10zm4 0h-2v-4h2v4z\"/>\n",
              "    </g>\n",
              "</svg>\n",
              "  </button>\n",
              "\n",
              "<style>\n",
              "  .colab-df-quickchart {\n",
              "      --bg-color: #E8F0FE;\n",
              "      --fill-color: #1967D2;\n",
              "      --hover-bg-color: #E2EBFA;\n",
              "      --hover-fill-color: #174EA6;\n",
              "      --disabled-fill-color: #AAA;\n",
              "      --disabled-bg-color: #DDD;\n",
              "  }\n",
              "\n",
              "  [theme=dark] .colab-df-quickchart {\n",
              "      --bg-color: #3B4455;\n",
              "      --fill-color: #D2E3FC;\n",
              "      --hover-bg-color: #434B5C;\n",
              "      --hover-fill-color: #FFFFFF;\n",
              "      --disabled-bg-color: #3B4455;\n",
              "      --disabled-fill-color: #666;\n",
              "  }\n",
              "\n",
              "  .colab-df-quickchart {\n",
              "    background-color: var(--bg-color);\n",
              "    border: none;\n",
              "    border-radius: 50%;\n",
              "    cursor: pointer;\n",
              "    display: none;\n",
              "    fill: var(--fill-color);\n",
              "    height: 32px;\n",
              "    padding: 0;\n",
              "    width: 32px;\n",
              "  }\n",
              "\n",
              "  .colab-df-quickchart:hover {\n",
              "    background-color: var(--hover-bg-color);\n",
              "    box-shadow: 0 1px 2px rgba(60, 64, 67, 0.3), 0 1px 3px 1px rgba(60, 64, 67, 0.15);\n",
              "    fill: var(--button-hover-fill-color);\n",
              "  }\n",
              "\n",
              "  .colab-df-quickchart-complete:disabled,\n",
              "  .colab-df-quickchart-complete:disabled:hover {\n",
              "    background-color: var(--disabled-bg-color);\n",
              "    fill: var(--disabled-fill-color);\n",
              "    box-shadow: none;\n",
              "  }\n",
              "\n",
              "  .colab-df-spinner {\n",
              "    border: 2px solid var(--fill-color);\n",
              "    border-color: transparent;\n",
              "    border-bottom-color: var(--fill-color);\n",
              "    animation:\n",
              "      spin 1s steps(1) infinite;\n",
              "  }\n",
              "\n",
              "  @keyframes spin {\n",
              "    0% {\n",
              "      border-color: transparent;\n",
              "      border-bottom-color: var(--fill-color);\n",
              "      border-left-color: var(--fill-color);\n",
              "    }\n",
              "    20% {\n",
              "      border-color: transparent;\n",
              "      border-left-color: var(--fill-color);\n",
              "      border-top-color: var(--fill-color);\n",
              "    }\n",
              "    30% {\n",
              "      border-color: transparent;\n",
              "      border-left-color: var(--fill-color);\n",
              "      border-top-color: var(--fill-color);\n",
              "      border-right-color: var(--fill-color);\n",
              "    }\n",
              "    40% {\n",
              "      border-color: transparent;\n",
              "      border-right-color: var(--fill-color);\n",
              "      border-top-color: var(--fill-color);\n",
              "    }\n",
              "    60% {\n",
              "      border-color: transparent;\n",
              "      border-right-color: var(--fill-color);\n",
              "    }\n",
              "    80% {\n",
              "      border-color: transparent;\n",
              "      border-right-color: var(--fill-color);\n",
              "      border-bottom-color: var(--fill-color);\n",
              "    }\n",
              "    90% {\n",
              "      border-color: transparent;\n",
              "      border-bottom-color: var(--fill-color);\n",
              "    }\n",
              "  }\n",
              "</style>\n",
              "\n",
              "  <script>\n",
              "    async function quickchart(key) {\n",
              "      const quickchartButtonEl =\n",
              "        document.querySelector('#' + key + ' button');\n",
              "      quickchartButtonEl.disabled = true;  // To prevent multiple clicks.\n",
              "      quickchartButtonEl.classList.add('colab-df-spinner');\n",
              "      try {\n",
              "        const charts = await google.colab.kernel.invokeFunction(\n",
              "            'suggestCharts', [key], {});\n",
              "      } catch (error) {\n",
              "        console.error('Error during call to suggestCharts:', error);\n",
              "      }\n",
              "      quickchartButtonEl.classList.remove('colab-df-spinner');\n",
              "      quickchartButtonEl.classList.add('colab-df-quickchart-complete');\n",
              "    }\n",
              "    (() => {\n",
              "      let quickchartButtonEl =\n",
              "        document.querySelector('#df-b608cc84-5327-4dc5-a563-d13875f520ca button');\n",
              "      quickchartButtonEl.style.display =\n",
              "        google.colab.kernel.accessAllowed ? 'block' : 'none';\n",
              "    })();\n",
              "  </script>\n",
              "</div>\n",
              "\n",
              "    </div>\n",
              "  </div>\n"
            ],
            "application/vnd.google.colaboratory.intrinsic+json": {
              "type": "dataframe",
              "variable_name": "y_pred_df",
              "summary": "{\n  \"name\": \"y_pred_df\",\n  \"rows\": 5000,\n  \"fields\": [\n    {\n      \"column\": 0,\n      \"properties\": {\n        \"dtype\": \"float32\",\n        \"num_unique_values\": 5000,\n        \"samples\": [\n          0.010303378105163574,\n          0.045662179589271545,\n          0.012356718070805073\n        ],\n        \"semantic_type\": \"\",\n        \"description\": \"\"\n      }\n    },\n    {\n      \"column\": 1,\n      \"properties\": {\n        \"dtype\": \"float32\",\n        \"num_unique_values\": 5000,\n        \"samples\": [\n          0.0018468545749783516,\n          0.00014071499754209071,\n          3.7270208849804476e-05\n        ],\n        \"semantic_type\": \"\",\n        \"description\": \"\"\n      }\n    },\n    {\n      \"column\": 2,\n      \"properties\": {\n        \"dtype\": \"float32\",\n        \"num_unique_values\": 5000,\n        \"samples\": [\n          0.9989671111106873,\n          2.0818575649173e-05,\n          7.474516314687207e-05\n        ],\n        \"semantic_type\": \"\",\n        \"description\": \"\"\n      }\n    },\n    {\n      \"column\": 3,\n      \"properties\": {\n        \"dtype\": \"float32\",\n        \"num_unique_values\": 4998,\n        \"samples\": [\n          0.008748364634811878,\n          0.9983770847320557,\n          0.09467840194702148\n        ],\n        \"semantic_type\": \"\",\n        \"description\": \"\"\n      }\n    },\n    {\n      \"column\": 4,\n      \"properties\": {\n        \"dtype\": \"float32\",\n        \"num_unique_values\": 4999,\n        \"samples\": [\n          0.42363598942756653,\n          0.01881817914545536,\n          0.9985082745552063\n        ],\n        \"semantic_type\": \"\",\n        \"description\": \"\"\n      }\n    },\n    {\n      \"column\": 5,\n      \"properties\": {\n        \"dtype\": \"float32\",\n        \"num_unique_values\": 4998,\n        \"samples\": [\n          0.007896858267486095,\n          0.014618451707065105,\n          1.1204934708075598e-05\n        ],\n        \"semantic_type\": \"\",\n        \"description\": \"\"\n      }\n    },\n    {\n      \"column\": 6,\n      \"properties\": {\n        \"dtype\": \"float32\",\n        \"num_unique_values\": 4998,\n        \"samples\": [\n          0.009108424186706543,\n          0.0008660751045681536,\n          0.5996048450469971\n        ],\n        \"semantic_type\": \"\",\n        \"description\": \"\"\n      }\n    },\n    {\n      \"column\": 7,\n      \"properties\": {\n        \"dtype\": \"float32\",\n        \"num_unique_values\": 4997,\n        \"samples\": [\n          0.00012096643331460655,\n          0.9974373579025269,\n          4.330866545387835e-07\n        ],\n        \"semantic_type\": \"\",\n        \"description\": \"\"\n      }\n    },\n    {\n      \"column\": 8,\n      \"properties\": {\n        \"dtype\": \"float32\",\n        \"num_unique_values\": 5000,\n        \"samples\": [\n          0.017732471227645874,\n          1.1788746633101255e-05,\n          3.9764705434208736e-05\n        ],\n        \"semantic_type\": \"\",\n        \"description\": \"\"\n      }\n    },\n    {\n      \"column\": 9,\n      \"properties\": {\n        \"dtype\": \"float32\",\n        \"num_unique_values\": 5000,\n        \"samples\": [\n          5.644370321533643e-05,\n          0.013255388475954533,\n          0.00776700908318162\n        ],\n        \"semantic_type\": \"\",\n        \"description\": \"\"\n      }\n    }\n  ]\n}"
            }
          },
          "metadata": {},
          "execution_count": 25
        }
      ]
    },
    {
      "cell_type": "code",
      "source": [
        "# 从y_pred预测数字\n",
        "y_prob = np.argmax(y_pred, axis = 1)+1\n",
        "y = y.reshape(-1,)\n",
        "y_prob = y_prob.reshape(-1,)\n",
        "\n",
        "score = sum(1 for t,p in zip(y,y_prob) if t == p)/len(y)\n",
        "print('准确率：', score)\n"
      ],
      "metadata": {
        "colab": {
          "base_uri": "https://localhost:8080/"
        },
        "id": "yjWQA7DgVDUv",
        "outputId": "e4576975-4e69-415d-a5b8-b0944096ddee"
      },
      "execution_count": null,
      "outputs": [
        {
          "output_type": "stream",
          "name": "stdout",
          "text": [
            "准确率： 0.8256\n"
          ]
        }
      ]
    }
  ]
}