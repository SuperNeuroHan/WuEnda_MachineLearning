{
  "nbformat": 4,
  "nbformat_minor": 0,
  "metadata": {
    "colab": {
      "provenance": []
    },
    "kernelspec": {
      "name": "python3",
      "display_name": "Python 3"
    },
    "language_info": {
      "name": "python"
    }
  },
  "cells": [
    {
      "cell_type": "code",
      "execution_count": 8,
      "metadata": {
        "id": "ilOWbtPaiF8B"
      },
      "outputs": [],
      "source": [
        "import tensorflow as tf\n",
        "import numpy as np\n",
        "import pandas as pd\n",
        "import matplotlib.pyplot as plt\n",
        "from tensorflow.keras.models import Sequential\n",
        "from tensorflow.keras.layers import Dense\n",
        "from scipy.io import loadmat"
      ]
    },
    {
      "cell_type": "code",
      "source": [
        "path = '/content/ex3data1.mat'\n",
        "data = loadmat(path)\n",
        "data.keys()"
      ],
      "metadata": {
        "colab": {
          "base_uri": "https://localhost:8080/"
        },
        "id": "XzRbRQ_vjUp7",
        "outputId": "e1ac1131-a1b2-412f-a7a6-4096daefb6fb"
      },
      "execution_count": 9,
      "outputs": [
        {
          "output_type": "execute_result",
          "data": {
            "text/plain": [
              "dict_keys(['__header__', '__version__', '__globals__', 'X', 'y'])"
            ]
          },
          "metadata": {},
          "execution_count": 9
        }
      ]
    },
    {
      "cell_type": "code",
      "source": [
        "X = data['X']\n",
        "y = data['y']\n",
        "y[y==10] = 0\n",
        "X.shape, y.shape"
      ],
      "metadata": {
        "colab": {
          "base_uri": "https://localhost:8080/"
        },
        "id": "8A3xH0hBkRlo",
        "outputId": "59b3274c-f7d8-4abe-8c05-3fea23a7e656"
      },
      "execution_count": 20,
      "outputs": [
        {
          "output_type": "execute_result",
          "data": {
            "text/plain": [
              "((5000, 400), (5000, 1))"
            ]
          },
          "metadata": {},
          "execution_count": 20
        }
      ]
    },
    {
      "cell_type": "code",
      "source": [
        "X_pd = pd.DataFrame(X)\n",
        "y_pd = pd.DataFrame(y)\n",
        "X_pd.head(), y_pd.head()"
      ],
      "metadata": {
        "colab": {
          "base_uri": "https://localhost:8080/"
        },
        "id": "b4YNPIu6tHwc",
        "outputId": "c8c7f619-e3f5-4498-e1ff-59966c40ad12"
      },
      "execution_count": 14,
      "outputs": [
        {
          "output_type": "execute_result",
          "data": {
            "text/plain": [
              "(   0    1    2    3    4    5    6    7    8    9    ...  390  391  392  393  \\\n",
              " 0  0.0  0.0  0.0  0.0  0.0  0.0  0.0  0.0  0.0  0.0  ...  0.0  0.0  0.0  0.0   \n",
              " 1  0.0  0.0  0.0  0.0  0.0  0.0  0.0  0.0  0.0  0.0  ...  0.0  0.0  0.0  0.0   \n",
              " 2  0.0  0.0  0.0  0.0  0.0  0.0  0.0  0.0  0.0  0.0  ...  0.0  0.0  0.0  0.0   \n",
              " 3  0.0  0.0  0.0  0.0  0.0  0.0  0.0  0.0  0.0  0.0  ...  0.0  0.0  0.0  0.0   \n",
              " 4  0.0  0.0  0.0  0.0  0.0  0.0  0.0  0.0  0.0  0.0  ...  0.0  0.0  0.0  0.0   \n",
              " \n",
              "    394  395  396  397  398  399  \n",
              " 0  0.0  0.0  0.0  0.0  0.0  0.0  \n",
              " 1  0.0  0.0  0.0  0.0  0.0  0.0  \n",
              " 2  0.0  0.0  0.0  0.0  0.0  0.0  \n",
              " 3  0.0  0.0  0.0  0.0  0.0  0.0  \n",
              " 4  0.0  0.0  0.0  0.0  0.0  0.0  \n",
              " \n",
              " [5 rows x 400 columns],\n",
              "     0\n",
              " 0  10\n",
              " 1  10\n",
              " 2  10\n",
              " 3  10\n",
              " 4  10)"
            ]
          },
          "metadata": {},
          "execution_count": 14
        }
      ]
    },
    {
      "cell_type": "code",
      "source": [
        "model = Sequential(\n",
        "    [\n",
        "        Dense(units = 25, name = 'l1', input_shape=(400,), activation='relu'),\n",
        "        Dense(units = 10, name = 'l2', activation='linear')\n",
        "    ]\n",
        ")\n",
        "\n",
        "model.compile(\n",
        "    optimizer = tf.keras.optimizers.Adam(learning_rate=0.001),\n",
        "    loss = tf.keras.losses.SparseCategoricalCrossentropy(from_logits=True),\n",
        ")\n",
        "\n",
        "model.fit(X, y, epochs=100)"
      ],
      "metadata": {
        "colab": {
          "base_uri": "https://localhost:8080/"
        },
        "id": "1WD1iRSzuAmE",
        "outputId": "8a5d02ed-3862-4f56-cea0-49d736e6922a"
      },
      "execution_count": 26,
      "outputs": [
        {
          "output_type": "stream",
          "name": "stdout",
          "text": [
            "Epoch 1/100\n",
            "157/157 [==============================] - 1s 2ms/step - loss: 1.2823\n",
            "Epoch 2/100\n",
            "157/157 [==============================] - 0s 2ms/step - loss: 0.5475\n",
            "Epoch 3/100\n",
            "157/157 [==============================] - 0s 2ms/step - loss: 0.4039\n",
            "Epoch 4/100\n",
            "157/157 [==============================] - 0s 2ms/step - loss: 0.3393\n",
            "Epoch 5/100\n",
            "157/157 [==============================] - 0s 2ms/step - loss: 0.3010\n",
            "Epoch 6/100\n",
            "157/157 [==============================] - 0s 2ms/step - loss: 0.2754\n",
            "Epoch 7/100\n",
            "157/157 [==============================] - 0s 2ms/step - loss: 0.2556\n",
            "Epoch 8/100\n",
            "157/157 [==============================] - 0s 3ms/step - loss: 0.2374\n",
            "Epoch 9/100\n",
            "157/157 [==============================] - 0s 3ms/step - loss: 0.2231\n",
            "Epoch 10/100\n",
            "157/157 [==============================] - 0s 3ms/step - loss: 0.2103\n",
            "Epoch 11/100\n",
            "157/157 [==============================] - 0s 3ms/step - loss: 0.2010\n",
            "Epoch 12/100\n",
            "157/157 [==============================] - 0s 3ms/step - loss: 0.1888\n",
            "Epoch 13/100\n",
            "157/157 [==============================] - 0s 2ms/step - loss: 0.1821\n",
            "Epoch 14/100\n",
            "157/157 [==============================] - 0s 3ms/step - loss: 0.1737\n",
            "Epoch 15/100\n",
            "157/157 [==============================] - 0s 2ms/step - loss: 0.1675\n",
            "Epoch 16/100\n",
            "157/157 [==============================] - 0s 2ms/step - loss: 0.1587\n",
            "Epoch 17/100\n",
            "157/157 [==============================] - 0s 2ms/step - loss: 0.1538\n",
            "Epoch 18/100\n",
            "157/157 [==============================] - 0s 2ms/step - loss: 0.1473\n",
            "Epoch 19/100\n",
            "157/157 [==============================] - 0s 2ms/step - loss: 0.1417\n",
            "Epoch 20/100\n",
            "157/157 [==============================] - 0s 2ms/step - loss: 0.1355\n",
            "Epoch 21/100\n",
            "157/157 [==============================] - 0s 2ms/step - loss: 0.1298\n",
            "Epoch 22/100\n",
            "157/157 [==============================] - 0s 2ms/step - loss: 0.1258\n",
            "Epoch 23/100\n",
            "157/157 [==============================] - 0s 2ms/step - loss: 0.1207\n",
            "Epoch 24/100\n",
            "157/157 [==============================] - 0s 2ms/step - loss: 0.1168\n",
            "Epoch 25/100\n",
            "157/157 [==============================] - 0s 2ms/step - loss: 0.1128\n",
            "Epoch 26/100\n",
            "157/157 [==============================] - 0s 2ms/step - loss: 0.1076\n",
            "Epoch 27/100\n",
            "157/157 [==============================] - 0s 2ms/step - loss: 0.1033\n",
            "Epoch 28/100\n",
            "157/157 [==============================] - 0s 2ms/step - loss: 0.1010\n",
            "Epoch 29/100\n",
            "157/157 [==============================] - 0s 2ms/step - loss: 0.0971\n",
            "Epoch 30/100\n",
            "157/157 [==============================] - 0s 2ms/step - loss: 0.0936\n",
            "Epoch 31/100\n",
            "157/157 [==============================] - 0s 2ms/step - loss: 0.0900\n",
            "Epoch 32/100\n",
            "157/157 [==============================] - 0s 2ms/step - loss: 0.0864\n",
            "Epoch 33/100\n",
            "157/157 [==============================] - 0s 2ms/step - loss: 0.0846\n",
            "Epoch 34/100\n",
            "157/157 [==============================] - 0s 2ms/step - loss: 0.0809\n",
            "Epoch 35/100\n",
            "157/157 [==============================] - 0s 2ms/step - loss: 0.0764\n",
            "Epoch 36/100\n",
            "157/157 [==============================] - 0s 2ms/step - loss: 0.0765\n",
            "Epoch 37/100\n",
            "157/157 [==============================] - 0s 2ms/step - loss: 0.0728\n",
            "Epoch 38/100\n",
            "157/157 [==============================] - 0s 2ms/step - loss: 0.0685\n",
            "Epoch 39/100\n",
            "157/157 [==============================] - 0s 2ms/step - loss: 0.0675\n",
            "Epoch 40/100\n",
            "157/157 [==============================] - 0s 2ms/step - loss: 0.0647\n",
            "Epoch 41/100\n",
            "157/157 [==============================] - 0s 2ms/step - loss: 0.0632\n",
            "Epoch 42/100\n",
            "157/157 [==============================] - 0s 2ms/step - loss: 0.0602\n",
            "Epoch 43/100\n",
            "157/157 [==============================] - 0s 2ms/step - loss: 0.0597\n",
            "Epoch 44/100\n",
            "157/157 [==============================] - 0s 2ms/step - loss: 0.0551\n",
            "Epoch 45/100\n",
            "157/157 [==============================] - 0s 2ms/step - loss: 0.0535\n",
            "Epoch 46/100\n",
            "157/157 [==============================] - 0s 2ms/step - loss: 0.0534\n",
            "Epoch 47/100\n",
            "157/157 [==============================] - 0s 2ms/step - loss: 0.0484\n",
            "Epoch 48/100\n",
            "157/157 [==============================] - 0s 2ms/step - loss: 0.0474\n",
            "Epoch 49/100\n",
            "157/157 [==============================] - 0s 2ms/step - loss: 0.0466\n",
            "Epoch 50/100\n",
            "157/157 [==============================] - 0s 2ms/step - loss: 0.0437\n",
            "Epoch 51/100\n",
            "157/157 [==============================] - 0s 2ms/step - loss: 0.0419\n",
            "Epoch 52/100\n",
            "157/157 [==============================] - 0s 3ms/step - loss: 0.0406\n",
            "Epoch 53/100\n",
            "157/157 [==============================] - 0s 3ms/step - loss: 0.0384\n",
            "Epoch 54/100\n",
            "157/157 [==============================] - 0s 2ms/step - loss: 0.0398\n",
            "Epoch 55/100\n",
            "157/157 [==============================] - 0s 3ms/step - loss: 0.0363\n",
            "Epoch 56/100\n",
            "157/157 [==============================] - 0s 3ms/step - loss: 0.0355\n",
            "Epoch 57/100\n",
            "157/157 [==============================] - 0s 3ms/step - loss: 0.0340\n",
            "Epoch 58/100\n",
            "157/157 [==============================] - 0s 3ms/step - loss: 0.0328\n",
            "Epoch 59/100\n",
            "157/157 [==============================] - 0s 3ms/step - loss: 0.0312\n",
            "Epoch 60/100\n",
            "157/157 [==============================] - 0s 2ms/step - loss: 0.0302\n",
            "Epoch 61/100\n",
            "157/157 [==============================] - 0s 2ms/step - loss: 0.0288\n",
            "Epoch 62/100\n",
            "157/157 [==============================] - 0s 2ms/step - loss: 0.0273\n",
            "Epoch 63/100\n",
            "157/157 [==============================] - 0s 2ms/step - loss: 0.0267\n",
            "Epoch 64/100\n",
            "157/157 [==============================] - 0s 2ms/step - loss: 0.0258\n",
            "Epoch 65/100\n",
            "157/157 [==============================] - 0s 2ms/step - loss: 0.0250\n",
            "Epoch 66/100\n",
            "157/157 [==============================] - 0s 2ms/step - loss: 0.0235\n",
            "Epoch 67/100\n",
            "157/157 [==============================] - 0s 2ms/step - loss: 0.0223\n",
            "Epoch 68/100\n",
            "157/157 [==============================] - 0s 2ms/step - loss: 0.0212\n",
            "Epoch 69/100\n",
            "157/157 [==============================] - 0s 2ms/step - loss: 0.0212\n",
            "Epoch 70/100\n",
            "157/157 [==============================] - 0s 2ms/step - loss: 0.0201\n",
            "Epoch 71/100\n",
            "157/157 [==============================] - 0s 2ms/step - loss: 0.0186\n",
            "Epoch 72/100\n",
            "157/157 [==============================] - 0s 2ms/step - loss: 0.0181\n",
            "Epoch 73/100\n",
            "157/157 [==============================] - 0s 2ms/step - loss: 0.0176\n",
            "Epoch 74/100\n",
            "157/157 [==============================] - 0s 2ms/step - loss: 0.0177\n",
            "Epoch 75/100\n",
            "157/157 [==============================] - 0s 2ms/step - loss: 0.0163\n",
            "Epoch 76/100\n",
            "157/157 [==============================] - 0s 2ms/step - loss: 0.0159\n",
            "Epoch 77/100\n",
            "157/157 [==============================] - 0s 2ms/step - loss: 0.0149\n",
            "Epoch 78/100\n",
            "157/157 [==============================] - 0s 2ms/step - loss: 0.0139\n",
            "Epoch 79/100\n",
            "157/157 [==============================] - 0s 2ms/step - loss: 0.0147\n",
            "Epoch 80/100\n",
            "157/157 [==============================] - 0s 2ms/step - loss: 0.0128\n",
            "Epoch 81/100\n",
            "157/157 [==============================] - 0s 2ms/step - loss: 0.0132\n",
            "Epoch 82/100\n",
            "157/157 [==============================] - 0s 2ms/step - loss: 0.0118\n",
            "Epoch 83/100\n",
            "157/157 [==============================] - 0s 2ms/step - loss: 0.0108\n",
            "Epoch 84/100\n",
            "157/157 [==============================] - 0s 2ms/step - loss: 0.0108\n",
            "Epoch 85/100\n",
            "157/157 [==============================] - 0s 2ms/step - loss: 0.0100\n",
            "Epoch 86/100\n",
            "157/157 [==============================] - 0s 2ms/step - loss: 0.0096\n",
            "Epoch 87/100\n",
            "157/157 [==============================] - 0s 2ms/step - loss: 0.0101\n",
            "Epoch 88/100\n",
            "157/157 [==============================] - 0s 2ms/step - loss: 0.0093\n",
            "Epoch 89/100\n",
            "157/157 [==============================] - 0s 2ms/step - loss: 0.0084\n",
            "Epoch 90/100\n",
            "157/157 [==============================] - 0s 2ms/step - loss: 0.0079\n",
            "Epoch 91/100\n",
            "157/157 [==============================] - 0s 2ms/step - loss: 0.0075\n",
            "Epoch 92/100\n",
            "157/157 [==============================] - 0s 2ms/step - loss: 0.0071\n",
            "Epoch 93/100\n",
            "157/157 [==============================] - 0s 2ms/step - loss: 0.0064\n",
            "Epoch 94/100\n",
            "157/157 [==============================] - 0s 2ms/step - loss: 0.0066\n",
            "Epoch 95/100\n",
            "157/157 [==============================] - 0s 2ms/step - loss: 0.0067\n",
            "Epoch 96/100\n",
            "157/157 [==============================] - 0s 3ms/step - loss: 0.0067\n",
            "Epoch 97/100\n",
            "157/157 [==============================] - 0s 2ms/step - loss: 0.0057\n",
            "Epoch 98/100\n",
            "157/157 [==============================] - 0s 3ms/step - loss: 0.0056\n",
            "Epoch 99/100\n",
            "157/157 [==============================] - 0s 2ms/step - loss: 0.0051\n",
            "Epoch 100/100\n",
            "157/157 [==============================] - 0s 3ms/step - loss: 0.0046\n"
          ]
        },
        {
          "output_type": "execute_result",
          "data": {
            "text/plain": [
              "<keras.src.callbacks.History at 0x7fae487a2b60>"
            ]
          },
          "metadata": {},
          "execution_count": 26
        }
      ]
    },
    {
      "cell_type": "code",
      "source": [
        "l1 = model.get_layer('l1')\n",
        "l2 = model.get_layer('l2')\n",
        "W1, b1 = l1.get_weights()\n",
        "W2, b2 = l2.get_weights()"
      ],
      "metadata": {
        "id": "AC5JRBFExJBp"
      },
      "execution_count": 28,
      "outputs": []
    },
    {
      "cell_type": "code",
      "source": [
        "X_test = X[998,:]\n",
        "y_test = y[998]\n",
        "y_pred_raw = model.predict(X_test.reshape(-1, 400))\n",
        "y_pred = tf.nn.softmax(y_pred_raw)"
      ],
      "metadata": {
        "colab": {
          "base_uri": "https://localhost:8080/"
        },
        "id": "NT00xZvAzF2f",
        "outputId": "52d536b6-8b75-477f-fdb9-fd85fcc73c78"
      },
      "execution_count": 39,
      "outputs": [
        {
          "output_type": "stream",
          "name": "stdout",
          "text": [
            "1/1 [==============================] - 0s 32ms/step\n"
          ]
        }
      ]
    },
    {
      "cell_type": "code",
      "source": [
        "pred_num = np.argmax(y_pred,axis=1).reshape(-1,1)\n",
        "pred_num, y_test"
      ],
      "metadata": {
        "colab": {
          "base_uri": "https://localhost:8080/"
        },
        "id": "lX3EGaug0Kui",
        "outputId": "9e8dc53a-0ac7-4388-9c89-c3add9ac7118"
      },
      "execution_count": 40,
      "outputs": [
        {
          "output_type": "execute_result",
          "data": {
            "text/plain": [
              "(array([[1]]), array([1], dtype=uint8))"
            ]
          },
          "metadata": {},
          "execution_count": 40
        }
      ]
    }
  ]
}